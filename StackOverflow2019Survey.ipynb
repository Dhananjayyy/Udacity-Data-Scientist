{
 "cells": [
  {
   "cell_type": "markdown",
   "metadata": {},
   "source": [
    "# Link the the blog post:\n",
    "https://medium.com/@DhananjayYelwande/stack-overflow-developer-survey-2019-key-trends-9042f73d5acc?sk=40b078e9814e2931050e579d203c6114\n",
    "\n",
    "---\n",
    "\n",
    "# Data Science Methodology\n",
    "\n",
    "This project is going to follow the CRISP-DM methodology.\n",
    "\n",
    "CRISP-DM stands for cross-industry process for data mining.\n",
    "\n",
    "CRISP-DM is a robust and well known methodology.\n",
    "\n",
    "CRISP-DM methodology provides a structured approach to planning a data mining project.\n",
    "\n",
    "---\n",
    "\n",
    " CRISP-DM includes the following processes:\n",
    "\n",
    "1. Business understanding\n",
    "2. Data understanding\n",
    "3. Data preparation\n",
    "4. Modeling\n",
    "5. Evaluation\n",
    "6. Deployment\n",
    "\n",
    "---\n"
   ]
  },
  {
   "cell_type": "markdown",
   "metadata": {},
   "source": [
    "## 1. Business Understanding\n",
    "\n",
    "---\n",
    "\n",
    "With 88,000 responses fielded from over 170 countries and dependent territories, Stack Overflow Annual Developer Survey continues to be the most comprehensive survey of software developers ever conducted. The survey covers aspects such as career satisfaction and job search to programming languages.\n",
    "\n",
    "In this project, the survey results will be used to answer the following questions for aspiring data scientists:\n",
    "\n",
    "- Which country contributed the most to the survey?\n",
    "- What's the pay for developers like?\n",
    "- What is the framework of choice for developers?\n",
    "\n",
    "-------\n",
    "\n",
    "**Summary of Results:**\n",
    "\n",
    "After analyzing the data, we found that:\n",
    "\n",
    "- Developers from United States contributed most to the survey.\n",
    "- The United States gives by far the highest of salaries of any nation.\n",
    "- Surprisingly, jQuery is the web framework of choice.\n",
    "\n",
    "For more details, please refer to the the full analysis below.\n",
    "\n",
    "----\n"
   ]
  },
  {
   "cell_type": "markdown",
   "metadata": {},
   "source": [
    "## 2. Data Understanding"
   ]
  },
  {
   "cell_type": "code",
   "execution_count": 2,
   "metadata": {
    "ExecuteTime": {
     "end_time": "2020-05-12T12:31:31.778000Z",
     "start_time": "2020-05-12T12:31:20.391629Z"
    }
   },
   "outputs": [],
   "source": [
    "import numpy as np\n",
    "import pandas as pd\n",
    "import matplotlib.pyplot as plt\n",
    "%matplotlib inline\n",
    "\n",
    "# Reading the data using pandas\n",
    "df = pd.read_csv('survey_results_public.csv')\n",
    "schema = pd.read_csv('survey_results_schema.csv')"
   ]
  },
  {
   "cell_type": "code",
   "execution_count": 3,
   "metadata": {
    "ExecuteTime": {
     "end_time": "2020-05-12T12:31:34.210194Z",
     "start_time": "2020-05-12T12:31:34.130318Z"
    },
    "scrolled": true
   },
   "outputs": [
    {
     "data": {
      "text/html": [
       "<div>\n",
       "<style scoped>\n",
       "    .dataframe tbody tr th:only-of-type {\n",
       "        vertical-align: middle;\n",
       "    }\n",
       "\n",
       "    .dataframe tbody tr th {\n",
       "        vertical-align: top;\n",
       "    }\n",
       "\n",
       "    .dataframe thead th {\n",
       "        text-align: right;\n",
       "    }\n",
       "</style>\n",
       "<table border=\"1\" class=\"dataframe\">\n",
       "  <thead>\n",
       "    <tr style=\"text-align: right;\">\n",
       "      <th></th>\n",
       "      <th>Respondent</th>\n",
       "      <th>MainBranch</th>\n",
       "      <th>Hobbyist</th>\n",
       "      <th>OpenSourcer</th>\n",
       "      <th>OpenSource</th>\n",
       "      <th>Employment</th>\n",
       "      <th>Country</th>\n",
       "      <th>Student</th>\n",
       "      <th>EdLevel</th>\n",
       "      <th>UndergradMajor</th>\n",
       "      <th>...</th>\n",
       "      <th>WelcomeChange</th>\n",
       "      <th>SONewContent</th>\n",
       "      <th>Age</th>\n",
       "      <th>Gender</th>\n",
       "      <th>Trans</th>\n",
       "      <th>Sexuality</th>\n",
       "      <th>Ethnicity</th>\n",
       "      <th>Dependents</th>\n",
       "      <th>SurveyLength</th>\n",
       "      <th>SurveyEase</th>\n",
       "    </tr>\n",
       "  </thead>\n",
       "  <tbody>\n",
       "    <tr>\n",
       "      <th>0</th>\n",
       "      <td>1</td>\n",
       "      <td>I am a student who is learning to code</td>\n",
       "      <td>Yes</td>\n",
       "      <td>Never</td>\n",
       "      <td>The quality of OSS and closed source software ...</td>\n",
       "      <td>Not employed, and not looking for work</td>\n",
       "      <td>United Kingdom</td>\n",
       "      <td>No</td>\n",
       "      <td>Primary/elementary school</td>\n",
       "      <td>NaN</td>\n",
       "      <td>...</td>\n",
       "      <td>Just as welcome now as I felt last year</td>\n",
       "      <td>Tech articles written by other developers;Indu...</td>\n",
       "      <td>14.0</td>\n",
       "      <td>Man</td>\n",
       "      <td>No</td>\n",
       "      <td>Straight / Heterosexual</td>\n",
       "      <td>NaN</td>\n",
       "      <td>No</td>\n",
       "      <td>Appropriate in length</td>\n",
       "      <td>Neither easy nor difficult</td>\n",
       "    </tr>\n",
       "    <tr>\n",
       "      <th>1</th>\n",
       "      <td>2</td>\n",
       "      <td>I am a student who is learning to code</td>\n",
       "      <td>No</td>\n",
       "      <td>Less than once per year</td>\n",
       "      <td>The quality of OSS and closed source software ...</td>\n",
       "      <td>Not employed, but looking for work</td>\n",
       "      <td>Bosnia and Herzegovina</td>\n",
       "      <td>Yes, full-time</td>\n",
       "      <td>Secondary school (e.g. American high school, G...</td>\n",
       "      <td>NaN</td>\n",
       "      <td>...</td>\n",
       "      <td>Just as welcome now as I felt last year</td>\n",
       "      <td>Tech articles written by other developers;Indu...</td>\n",
       "      <td>19.0</td>\n",
       "      <td>Man</td>\n",
       "      <td>No</td>\n",
       "      <td>Straight / Heterosexual</td>\n",
       "      <td>NaN</td>\n",
       "      <td>No</td>\n",
       "      <td>Appropriate in length</td>\n",
       "      <td>Neither easy nor difficult</td>\n",
       "    </tr>\n",
       "    <tr>\n",
       "      <th>2</th>\n",
       "      <td>3</td>\n",
       "      <td>I am not primarily a developer, but I write co...</td>\n",
       "      <td>Yes</td>\n",
       "      <td>Never</td>\n",
       "      <td>The quality of OSS and closed source software ...</td>\n",
       "      <td>Employed full-time</td>\n",
       "      <td>Thailand</td>\n",
       "      <td>No</td>\n",
       "      <td>Bachelor’s degree (BA, BS, B.Eng., etc.)</td>\n",
       "      <td>Web development or web design</td>\n",
       "      <td>...</td>\n",
       "      <td>Just as welcome now as I felt last year</td>\n",
       "      <td>Tech meetups or events in your area;Courses on...</td>\n",
       "      <td>28.0</td>\n",
       "      <td>Man</td>\n",
       "      <td>No</td>\n",
       "      <td>Straight / Heterosexual</td>\n",
       "      <td>NaN</td>\n",
       "      <td>Yes</td>\n",
       "      <td>Appropriate in length</td>\n",
       "      <td>Neither easy nor difficult</td>\n",
       "    </tr>\n",
       "    <tr>\n",
       "      <th>3</th>\n",
       "      <td>4</td>\n",
       "      <td>I am a developer by profession</td>\n",
       "      <td>No</td>\n",
       "      <td>Never</td>\n",
       "      <td>The quality of OSS and closed source software ...</td>\n",
       "      <td>Employed full-time</td>\n",
       "      <td>United States</td>\n",
       "      <td>No</td>\n",
       "      <td>Bachelor’s degree (BA, BS, B.Eng., etc.)</td>\n",
       "      <td>Computer science, computer engineering, or sof...</td>\n",
       "      <td>...</td>\n",
       "      <td>Just as welcome now as I felt last year</td>\n",
       "      <td>Tech articles written by other developers;Indu...</td>\n",
       "      <td>22.0</td>\n",
       "      <td>Man</td>\n",
       "      <td>No</td>\n",
       "      <td>Straight / Heterosexual</td>\n",
       "      <td>White or of European descent</td>\n",
       "      <td>No</td>\n",
       "      <td>Appropriate in length</td>\n",
       "      <td>Easy</td>\n",
       "    </tr>\n",
       "    <tr>\n",
       "      <th>4</th>\n",
       "      <td>5</td>\n",
       "      <td>I am a developer by profession</td>\n",
       "      <td>Yes</td>\n",
       "      <td>Once a month or more often</td>\n",
       "      <td>OSS is, on average, of HIGHER quality than pro...</td>\n",
       "      <td>Employed full-time</td>\n",
       "      <td>Ukraine</td>\n",
       "      <td>No</td>\n",
       "      <td>Bachelor’s degree (BA, BS, B.Eng., etc.)</td>\n",
       "      <td>Computer science, computer engineering, or sof...</td>\n",
       "      <td>...</td>\n",
       "      <td>Just as welcome now as I felt last year</td>\n",
       "      <td>Tech meetups or events in your area;Courses on...</td>\n",
       "      <td>30.0</td>\n",
       "      <td>Man</td>\n",
       "      <td>No</td>\n",
       "      <td>Straight / Heterosexual</td>\n",
       "      <td>White or of European descent;Multiracial</td>\n",
       "      <td>No</td>\n",
       "      <td>Appropriate in length</td>\n",
       "      <td>Easy</td>\n",
       "    </tr>\n",
       "  </tbody>\n",
       "</table>\n",
       "<p>5 rows × 85 columns</p>\n",
       "</div>"
      ],
      "text/plain": [
       "   Respondent                                         MainBranch Hobbyist  \\\n",
       "0           1             I am a student who is learning to code      Yes   \n",
       "1           2             I am a student who is learning to code       No   \n",
       "2           3  I am not primarily a developer, but I write co...      Yes   \n",
       "3           4                     I am a developer by profession       No   \n",
       "4           5                     I am a developer by profession      Yes   \n",
       "\n",
       "                  OpenSourcer  \\\n",
       "0                       Never   \n",
       "1     Less than once per year   \n",
       "2                       Never   \n",
       "3                       Never   \n",
       "4  Once a month or more often   \n",
       "\n",
       "                                          OpenSource  \\\n",
       "0  The quality of OSS and closed source software ...   \n",
       "1  The quality of OSS and closed source software ...   \n",
       "2  The quality of OSS and closed source software ...   \n",
       "3  The quality of OSS and closed source software ...   \n",
       "4  OSS is, on average, of HIGHER quality than pro...   \n",
       "\n",
       "                               Employment                 Country  \\\n",
       "0  Not employed, and not looking for work          United Kingdom   \n",
       "1      Not employed, but looking for work  Bosnia and Herzegovina   \n",
       "2                      Employed full-time                Thailand   \n",
       "3                      Employed full-time           United States   \n",
       "4                      Employed full-time                 Ukraine   \n",
       "\n",
       "          Student                                            EdLevel  \\\n",
       "0              No                          Primary/elementary school   \n",
       "1  Yes, full-time  Secondary school (e.g. American high school, G...   \n",
       "2              No           Bachelor’s degree (BA, BS, B.Eng., etc.)   \n",
       "3              No           Bachelor’s degree (BA, BS, B.Eng., etc.)   \n",
       "4              No           Bachelor’s degree (BA, BS, B.Eng., etc.)   \n",
       "\n",
       "                                      UndergradMajor  \\\n",
       "0                                                NaN   \n",
       "1                                                NaN   \n",
       "2                      Web development or web design   \n",
       "3  Computer science, computer engineering, or sof...   \n",
       "4  Computer science, computer engineering, or sof...   \n",
       "\n",
       "              ...                                        WelcomeChange  \\\n",
       "0             ...              Just as welcome now as I felt last year   \n",
       "1             ...              Just as welcome now as I felt last year   \n",
       "2             ...              Just as welcome now as I felt last year   \n",
       "3             ...              Just as welcome now as I felt last year   \n",
       "4             ...              Just as welcome now as I felt last year   \n",
       "\n",
       "                                        SONewContent   Age Gender Trans  \\\n",
       "0  Tech articles written by other developers;Indu...  14.0    Man    No   \n",
       "1  Tech articles written by other developers;Indu...  19.0    Man    No   \n",
       "2  Tech meetups or events in your area;Courses on...  28.0    Man    No   \n",
       "3  Tech articles written by other developers;Indu...  22.0    Man    No   \n",
       "4  Tech meetups or events in your area;Courses on...  30.0    Man    No   \n",
       "\n",
       "                 Sexuality                                 Ethnicity  \\\n",
       "0  Straight / Heterosexual                                       NaN   \n",
       "1  Straight / Heterosexual                                       NaN   \n",
       "2  Straight / Heterosexual                                       NaN   \n",
       "3  Straight / Heterosexual              White or of European descent   \n",
       "4  Straight / Heterosexual  White or of European descent;Multiracial   \n",
       "\n",
       "  Dependents           SurveyLength                  SurveyEase  \n",
       "0         No  Appropriate in length  Neither easy nor difficult  \n",
       "1         No  Appropriate in length  Neither easy nor difficult  \n",
       "2        Yes  Appropriate in length  Neither easy nor difficult  \n",
       "3         No  Appropriate in length                        Easy  \n",
       "4         No  Appropriate in length                        Easy  \n",
       "\n",
       "[5 rows x 85 columns]"
      ]
     },
     "execution_count": 3,
     "metadata": {},
     "output_type": "execute_result"
    }
   ],
   "source": [
    "df.head()"
   ]
  },
  {
   "cell_type": "code",
   "execution_count": 4,
   "metadata": {
    "ExecuteTime": {
     "end_time": "2020-05-12T12:31:34.932314Z",
     "start_time": "2020-05-12T12:31:34.763499Z"
    },
    "scrolled": true
   },
   "outputs": [
    {
     "data": {
      "text/html": [
       "<div>\n",
       "<style scoped>\n",
       "    .dataframe tbody tr th:only-of-type {\n",
       "        vertical-align: middle;\n",
       "    }\n",
       "\n",
       "    .dataframe tbody tr th {\n",
       "        vertical-align: top;\n",
       "    }\n",
       "\n",
       "    .dataframe thead th {\n",
       "        text-align: right;\n",
       "    }\n",
       "</style>\n",
       "<table border=\"1\" class=\"dataframe\">\n",
       "  <thead>\n",
       "    <tr style=\"text-align: right;\">\n",
       "      <th></th>\n",
       "      <th>Respondent</th>\n",
       "      <th>CompTotal</th>\n",
       "      <th>ConvertedComp</th>\n",
       "      <th>WorkWeekHrs</th>\n",
       "      <th>CodeRevHrs</th>\n",
       "      <th>Age</th>\n",
       "    </tr>\n",
       "  </thead>\n",
       "  <tbody>\n",
       "    <tr>\n",
       "      <th>count</th>\n",
       "      <td>88883.000000</td>\n",
       "      <td>5.594500e+04</td>\n",
       "      <td>5.582300e+04</td>\n",
       "      <td>64503.000000</td>\n",
       "      <td>49790.000000</td>\n",
       "      <td>79210.000000</td>\n",
       "    </tr>\n",
       "    <tr>\n",
       "      <th>mean</th>\n",
       "      <td>44442.000000</td>\n",
       "      <td>5.519014e+11</td>\n",
       "      <td>1.271107e+05</td>\n",
       "      <td>42.127197</td>\n",
       "      <td>5.084308</td>\n",
       "      <td>30.336699</td>\n",
       "    </tr>\n",
       "    <tr>\n",
       "      <th>std</th>\n",
       "      <td>25658.456325</td>\n",
       "      <td>7.331926e+13</td>\n",
       "      <td>2.841523e+05</td>\n",
       "      <td>37.287610</td>\n",
       "      <td>5.513931</td>\n",
       "      <td>9.178390</td>\n",
       "    </tr>\n",
       "    <tr>\n",
       "      <th>min</th>\n",
       "      <td>1.000000</td>\n",
       "      <td>0.000000e+00</td>\n",
       "      <td>0.000000e+00</td>\n",
       "      <td>1.000000</td>\n",
       "      <td>0.000000</td>\n",
       "      <td>1.000000</td>\n",
       "    </tr>\n",
       "    <tr>\n",
       "      <th>25%</th>\n",
       "      <td>22221.500000</td>\n",
       "      <td>2.000000e+04</td>\n",
       "      <td>2.577750e+04</td>\n",
       "      <td>40.000000</td>\n",
       "      <td>2.000000</td>\n",
       "      <td>24.000000</td>\n",
       "    </tr>\n",
       "    <tr>\n",
       "      <th>50%</th>\n",
       "      <td>44442.000000</td>\n",
       "      <td>6.200000e+04</td>\n",
       "      <td>5.728700e+04</td>\n",
       "      <td>40.000000</td>\n",
       "      <td>4.000000</td>\n",
       "      <td>29.000000</td>\n",
       "    </tr>\n",
       "    <tr>\n",
       "      <th>75%</th>\n",
       "      <td>66662.500000</td>\n",
       "      <td>1.200000e+05</td>\n",
       "      <td>1.000000e+05</td>\n",
       "      <td>44.750000</td>\n",
       "      <td>6.000000</td>\n",
       "      <td>35.000000</td>\n",
       "    </tr>\n",
       "    <tr>\n",
       "      <th>max</th>\n",
       "      <td>88883.000000</td>\n",
       "      <td>1.000000e+16</td>\n",
       "      <td>2.000000e+06</td>\n",
       "      <td>4850.000000</td>\n",
       "      <td>99.000000</td>\n",
       "      <td>99.000000</td>\n",
       "    </tr>\n",
       "  </tbody>\n",
       "</table>\n",
       "</div>"
      ],
      "text/plain": [
       "         Respondent     CompTotal  ConvertedComp   WorkWeekHrs    CodeRevHrs  \\\n",
       "count  88883.000000  5.594500e+04   5.582300e+04  64503.000000  49790.000000   \n",
       "mean   44442.000000  5.519014e+11   1.271107e+05     42.127197      5.084308   \n",
       "std    25658.456325  7.331926e+13   2.841523e+05     37.287610      5.513931   \n",
       "min        1.000000  0.000000e+00   0.000000e+00      1.000000      0.000000   \n",
       "25%    22221.500000  2.000000e+04   2.577750e+04     40.000000      2.000000   \n",
       "50%    44442.000000  6.200000e+04   5.728700e+04     40.000000      4.000000   \n",
       "75%    66662.500000  1.200000e+05   1.000000e+05     44.750000      6.000000   \n",
       "max    88883.000000  1.000000e+16   2.000000e+06   4850.000000     99.000000   \n",
       "\n",
       "                Age  \n",
       "count  79210.000000  \n",
       "mean      30.336699  \n",
       "std        9.178390  \n",
       "min        1.000000  \n",
       "25%       24.000000  \n",
       "50%       29.000000  \n",
       "75%       35.000000  \n",
       "max       99.000000  "
      ]
     },
     "execution_count": 4,
     "metadata": {},
     "output_type": "execute_result"
    }
   ],
   "source": [
    "# Using the describe function to get an overall insight into the data\n",
    "df.describe()"
   ]
  },
  {
   "cell_type": "code",
   "execution_count": 5,
   "metadata": {
    "ExecuteTime": {
     "end_time": "2020-05-12T12:31:35.169888Z",
     "start_time": "2020-05-12T12:31:35.164896Z"
    }
   },
   "outputs": [
    {
     "data": {
      "text/plain": [
       "(88883, 85)"
      ]
     },
     "execution_count": 5,
     "metadata": {},
     "output_type": "execute_result"
    }
   ],
   "source": [
    "# Shape of the dataframe\n",
    "df.shape"
   ]
  },
  {
   "cell_type": "code",
   "execution_count": 6,
   "metadata": {
    "ExecuteTime": {
     "end_time": "2020-05-12T12:31:35.860340Z",
     "start_time": "2020-05-12T12:31:35.854356Z"
    }
   },
   "outputs": [
    {
     "data": {
      "text/html": [
       "<div>\n",
       "<style scoped>\n",
       "    .dataframe tbody tr th:only-of-type {\n",
       "        vertical-align: middle;\n",
       "    }\n",
       "\n",
       "    .dataframe tbody tr th {\n",
       "        vertical-align: top;\n",
       "    }\n",
       "\n",
       "    .dataframe thead th {\n",
       "        text-align: right;\n",
       "    }\n",
       "</style>\n",
       "<table border=\"1\" class=\"dataframe\">\n",
       "  <thead>\n",
       "    <tr style=\"text-align: right;\">\n",
       "      <th></th>\n",
       "      <th>Column</th>\n",
       "      <th>QuestionText</th>\n",
       "    </tr>\n",
       "  </thead>\n",
       "  <tbody>\n",
       "    <tr>\n",
       "      <th>0</th>\n",
       "      <td>Respondent</td>\n",
       "      <td>Randomized respondent ID number (not in order ...</td>\n",
       "    </tr>\n",
       "    <tr>\n",
       "      <th>1</th>\n",
       "      <td>MainBranch</td>\n",
       "      <td>Which of the following options best describes ...</td>\n",
       "    </tr>\n",
       "    <tr>\n",
       "      <th>2</th>\n",
       "      <td>Hobbyist</td>\n",
       "      <td>Do you code as a hobby?</td>\n",
       "    </tr>\n",
       "    <tr>\n",
       "      <th>3</th>\n",
       "      <td>OpenSourcer</td>\n",
       "      <td>How often do you contribute to open source?</td>\n",
       "    </tr>\n",
       "    <tr>\n",
       "      <th>4</th>\n",
       "      <td>OpenSource</td>\n",
       "      <td>How do you feel about the quality of open sour...</td>\n",
       "    </tr>\n",
       "  </tbody>\n",
       "</table>\n",
       "</div>"
      ],
      "text/plain": [
       "        Column                                       QuestionText\n",
       "0   Respondent  Randomized respondent ID number (not in order ...\n",
       "1   MainBranch  Which of the following options best describes ...\n",
       "2     Hobbyist                            Do you code as a hobby?\n",
       "3  OpenSourcer        How often do you contribute to open source?\n",
       "4   OpenSource  How do you feel about the quality of open sour..."
      ]
     },
     "execution_count": 6,
     "metadata": {},
     "output_type": "execute_result"
    }
   ],
   "source": [
    "# First five rows from schema\n",
    "schema.head()"
   ]
  },
  {
   "cell_type": "code",
   "execution_count": 7,
   "metadata": {
    "ExecuteTime": {
     "end_time": "2020-05-12T12:31:36.421356Z",
     "start_time": "2020-05-12T12:31:36.416332Z"
    }
   },
   "outputs": [
    {
     "data": {
      "text/plain": [
       "(85, 2)"
      ]
     },
     "execution_count": 7,
     "metadata": {},
     "output_type": "execute_result"
    }
   ],
   "source": [
    "# Shape of schema\n",
    "schema.shape"
   ]
  },
  {
   "cell_type": "code",
   "execution_count": 8,
   "metadata": {
    "ExecuteTime": {
     "end_time": "2020-05-12T12:31:37.156119Z",
     "start_time": "2020-05-12T12:31:36.854924Z"
    },
    "scrolled": true
   },
   "outputs": [
    {
     "name": "stdout",
     "output_type": "stream",
     "text": [
      "<class 'pandas.core.frame.DataFrame'>\n",
      "RangeIndex: 88883 entries, 0 to 88882\n",
      "Data columns (total 85 columns):\n",
      "Respondent                88883 non-null int64\n",
      "MainBranch                88331 non-null object\n",
      "Hobbyist                  88883 non-null object\n",
      "OpenSourcer               88883 non-null object\n",
      "OpenSource                86842 non-null object\n",
      "Employment                87181 non-null object\n",
      "Country                   88751 non-null object\n",
      "Student                   87014 non-null object\n",
      "EdLevel                   86390 non-null object\n",
      "UndergradMajor            75614 non-null object\n",
      "EduOther                  84260 non-null object\n",
      "OrgSize                   71791 non-null object\n",
      "DevType                   81335 non-null object\n",
      "YearsCode                 87938 non-null object\n",
      "Age1stCode                87634 non-null object\n",
      "YearsCodePro              74331 non-null object\n",
      "CareerSat                 72847 non-null object\n",
      "JobSat                    70988 non-null object\n",
      "MgrIdiot                  61159 non-null object\n",
      "MgrMoney                  61157 non-null object\n",
      "MgrWant                   61232 non-null object\n",
      "JobSeek                   80555 non-null object\n",
      "LastHireDate              79854 non-null object\n",
      "LastInt                   67155 non-null object\n",
      "FizzBuzz                  71344 non-null object\n",
      "JobFactors                79371 non-null object\n",
      "ResumeUpdate              77877 non-null object\n",
      "CurrencySymbol            71392 non-null object\n",
      "CurrencyDesc              71392 non-null object\n",
      "CompTotal                 55945 non-null float64\n",
      "CompFreq                  63268 non-null object\n",
      "ConvertedComp             55823 non-null float64\n",
      "WorkWeekHrs               64503 non-null float64\n",
      "WorkPlan                  68914 non-null object\n",
      "WorkChallenge             68141 non-null object\n",
      "WorkRemote                70284 non-null object\n",
      "WorkLoc                   70055 non-null object\n",
      "ImpSyn                    71779 non-null object\n",
      "CodeRev                   70390 non-null object\n",
      "CodeRevHrs                49790 non-null float64\n",
      "UnitTests                 62668 non-null object\n",
      "PurchaseHow               61108 non-null object\n",
      "PurchaseWhat              62029 non-null object\n",
      "LanguageWorkedWith        87569 non-null object\n",
      "LanguageDesireNextYear    84088 non-null object\n",
      "DatabaseWorkedWith        76026 non-null object\n",
      "DatabaseDesireNextYear    69147 non-null object\n",
      "PlatformWorkedWith        80714 non-null object\n",
      "PlatformDesireNextYear    77443 non-null object\n",
      "WebFrameWorkedWith        65022 non-null object\n",
      "WebFrameDesireNextYear    62944 non-null object\n",
      "MiscTechWorkedWith        59586 non-null object\n",
      "MiscTechDesireNextYear    64511 non-null object\n",
      "DevEnviron                87317 non-null object\n",
      "OpSys                     87851 non-null object\n",
      "Containers                85366 non-null object\n",
      "BlockchainOrg             48175 non-null object\n",
      "BlockchainIs              60165 non-null object\n",
      "BetterLife                86269 non-null object\n",
      "ITperson                  87141 non-null object\n",
      "OffOn                     86663 non-null object\n",
      "SocialMedia               84437 non-null object\n",
      "Extraversion              87305 non-null object\n",
      "ScreenName                80486 non-null object\n",
      "SOVisit1st                83877 non-null object\n",
      "SOVisitFreq               88263 non-null object\n",
      "SOVisitTo                 88086 non-null object\n",
      "SOFindAnswer              87816 non-null object\n",
      "SOTimeSaved               86344 non-null object\n",
      "SOHowMuchTime             68378 non-null object\n",
      "SOAccount                 87828 non-null object\n",
      "SOPartFreq                74692 non-null object\n",
      "SOJobs                    88066 non-null object\n",
      "EntTeams                  87841 non-null object\n",
      "SOComm                    88131 non-null object\n",
      "WelcomeChange             85855 non-null object\n",
      "SONewContent              69560 non-null object\n",
      "Age                       79210 non-null float64\n",
      "Gender                    85406 non-null object\n",
      "Trans                     83607 non-null object\n",
      "Sexuality                 76147 non-null object\n",
      "Ethnicity                 76668 non-null object\n",
      "Dependents                83059 non-null object\n",
      "SurveyLength              86984 non-null object\n",
      "SurveyEase                87081 non-null object\n",
      "dtypes: float64(5), int64(1), object(79)\n",
      "memory usage: 57.6+ MB\n"
     ]
    }
   ],
   "source": [
    "# Gets info about columns, data types and value counts\n",
    "df.info()"
   ]
  },
  {
   "cell_type": "code",
   "execution_count": 9,
   "metadata": {
    "ExecuteTime": {
     "end_time": "2020-05-12T12:31:38.118855Z",
     "start_time": "2020-05-12T12:31:37.541399Z"
    }
   },
   "outputs": [
    {
     "data": {
      "text/plain": [
       "{'Hobbyist', 'OpenSourcer', 'Respondent'}"
      ]
     },
     "execution_count": 9,
     "metadata": {},
     "output_type": "execute_result"
    }
   ],
   "source": [
    "# check columns with no missing values\n",
    "set(df.isna().sum()[df.isna().sum()==0].keys())"
   ]
  },
  {
   "cell_type": "code",
   "execution_count": 10,
   "metadata": {
    "ExecuteTime": {
     "end_time": "2020-05-12T12:31:39.044561Z",
     "start_time": "2020-05-12T12:31:38.187870Z"
    }
   },
   "outputs": [
    {
     "data": {
      "text/plain": [
       "{'Age',\n",
       " 'Age1stCode',\n",
       " 'BetterLife',\n",
       " 'BlockchainIs',\n",
       " 'BlockchainOrg',\n",
       " 'CareerSat',\n",
       " 'CodeRev',\n",
       " 'CodeRevHrs',\n",
       " 'CompFreq',\n",
       " 'CompTotal',\n",
       " 'Containers',\n",
       " 'ConvertedComp',\n",
       " 'Country',\n",
       " 'CurrencyDesc',\n",
       " 'CurrencySymbol',\n",
       " 'DatabaseDesireNextYear',\n",
       " 'DatabaseWorkedWith',\n",
       " 'Dependents',\n",
       " 'DevEnviron',\n",
       " 'DevType',\n",
       " 'EdLevel',\n",
       " 'EduOther',\n",
       " 'Employment',\n",
       " 'EntTeams',\n",
       " 'Ethnicity',\n",
       " 'Extraversion',\n",
       " 'FizzBuzz',\n",
       " 'Gender',\n",
       " 'ITperson',\n",
       " 'ImpSyn',\n",
       " 'JobFactors',\n",
       " 'JobSat',\n",
       " 'JobSeek',\n",
       " 'LanguageDesireNextYear',\n",
       " 'LanguageWorkedWith',\n",
       " 'LastHireDate',\n",
       " 'LastInt',\n",
       " 'MainBranch',\n",
       " 'MgrIdiot',\n",
       " 'MgrMoney',\n",
       " 'MgrWant',\n",
       " 'MiscTechDesireNextYear',\n",
       " 'MiscTechWorkedWith',\n",
       " 'OffOn',\n",
       " 'OpSys',\n",
       " 'OpenSource',\n",
       " 'OrgSize',\n",
       " 'PlatformDesireNextYear',\n",
       " 'PlatformWorkedWith',\n",
       " 'PurchaseHow',\n",
       " 'PurchaseWhat',\n",
       " 'ResumeUpdate',\n",
       " 'SOAccount',\n",
       " 'SOComm',\n",
       " 'SOFindAnswer',\n",
       " 'SOHowMuchTime',\n",
       " 'SOJobs',\n",
       " 'SONewContent',\n",
       " 'SOPartFreq',\n",
       " 'SOTimeSaved',\n",
       " 'SOVisit1st',\n",
       " 'SOVisitFreq',\n",
       " 'SOVisitTo',\n",
       " 'ScreenName',\n",
       " 'Sexuality',\n",
       " 'SocialMedia',\n",
       " 'Student',\n",
       " 'SurveyEase',\n",
       " 'SurveyLength',\n",
       " 'Trans',\n",
       " 'UndergradMajor',\n",
       " 'UnitTests',\n",
       " 'WebFrameDesireNextYear',\n",
       " 'WebFrameWorkedWith',\n",
       " 'WelcomeChange',\n",
       " 'WorkChallenge',\n",
       " 'WorkLoc',\n",
       " 'WorkPlan',\n",
       " 'WorkRemote',\n",
       " 'WorkWeekHrs',\n",
       " 'YearsCode',\n",
       " 'YearsCodePro'}"
      ]
     },
     "execution_count": 10,
     "metadata": {},
     "output_type": "execute_result"
    }
   ],
   "source": [
    "# check which columns have over 50% missing values\n",
    "set(df.columns[100*df.isna().sum()/df.shape[0] > 0])"
   ]
  },
  {
   "cell_type": "code",
   "execution_count": 11,
   "metadata": {
    "ExecuteTime": {
     "end_time": "2020-05-12T12:31:39.420532Z",
     "start_time": "2020-05-12T12:31:39.115349Z"
    }
   },
   "outputs": [
    {
     "data": {
      "text/plain": [
       "{'BlockchainIs',\n",
       " 'BlockchainOrg',\n",
       " 'CodeRevHrs',\n",
       " 'CompFreq',\n",
       " 'CompTotal',\n",
       " 'ConvertedComp',\n",
       " 'MgrIdiot',\n",
       " 'MgrMoney',\n",
       " 'MgrWant',\n",
       " 'MiscTechDesireNextYear',\n",
       " 'MiscTechWorkedWith',\n",
       " 'PurchaseHow',\n",
       " 'PurchaseWhat',\n",
       " 'UnitTests',\n",
       " 'WebFrameDesireNextYear',\n",
       " 'WebFrameWorkedWith',\n",
       " 'WorkWeekHrs'}"
      ]
     },
     "execution_count": 11,
     "metadata": {},
     "output_type": "execute_result"
    }
   ],
   "source": [
    "# check which columns have over 30% missing values\n",
    "set(df.columns[100*df.isna().sum()/df.shape[0] > 25\n",
    "              ])"
   ]
  },
  {
   "cell_type": "code",
   "execution_count": 12,
   "metadata": {
    "ExecuteTime": {
     "end_time": "2020-05-12T12:31:39.499329Z",
     "start_time": "2020-05-12T12:31:39.492338Z"
    }
   },
   "outputs": [
    {
     "data": {
      "text/plain": [
       "Column          0\n",
       "QuestionText    0\n",
       "dtype: int64"
      ]
     },
     "execution_count": 12,
     "metadata": {},
     "output_type": "execute_result"
    }
   ],
   "source": [
    "# check is we have missing schemas\n",
    "np.sum(schema.isnull())"
   ]
  },
  {
   "cell_type": "code",
   "execution_count": 13,
   "metadata": {
    "ExecuteTime": {
     "end_time": "2020-05-12T12:31:40.988111Z",
     "start_time": "2020-05-12T12:31:40.165861Z"
    },
    "scrolled": false
   },
   "outputs": [
    {
     "data": {
      "text/plain": [
       "array([[<matplotlib.axes._subplots.AxesSubplot object at 0x000001CE53010A58>,\n",
       "        <matplotlib.axes._subplots.AxesSubplot object at 0x000001CE53056198>],\n",
       "       [<matplotlib.axes._subplots.AxesSubplot object at 0x000001CE5307F4E0>,\n",
       "        <matplotlib.axes._subplots.AxesSubplot object at 0x000001CE530A6B00>],\n",
       "       [<matplotlib.axes._subplots.AxesSubplot object at 0x000001CE530D71D0>,\n",
       "        <matplotlib.axes._subplots.AxesSubplot object at 0x000001CE530D7208>]],\n",
       "      dtype=object)"
      ]
     },
     "execution_count": 13,
     "metadata": {},
     "output_type": "execute_result"
    },
    {
     "data": {
      "image/png": "[encoded data removed]",
      "text/plain": [
       "<Figure size 432x288 with 6 Axes>"
      ]
     },
     "metadata": {
      "needs_background": "light"
     },
     "output_type": "display_data"
    }
   ],
   "source": [
    "df.hist()"
   ]
  },
  {
   "cell_type": "markdown",
   "metadata": {
    "ExecuteTime": {
     "end_time": "2020-05-11T13:15:43.368894Z",
     "start_time": "2020-05-11T13:15:40.490414Z"
    }
   },
   "source": [
    "# 3. Data Preparation, Modelling and Evaluation"
   ]
  },
  {
   "cell_type": "markdown",
   "metadata": {},
   "source": [
    "\n",
    "---\n",
    "\n",
    "### 1. Finding out which country contributed the most to the survey:\n",
    "\n",
    " The Top 3 are: \n",
    " \n",
    " - United States\n",
    " \n",
    " - India\n",
    " \n",
    " - Germany."
   ]
  },
  {
   "cell_type": "code",
   "execution_count": 14,
   "metadata": {
    "ExecuteTime": {
     "end_time": "2020-05-12T12:31:43.644525Z",
     "start_time": "2020-05-12T12:31:43.505518Z"
    },
    "scrolled": false
   },
   "outputs": [
    {
     "data": {
      "image/png": "[encoded data removed]",
      "text/plain": [
       "<Figure size 432x288 with 1 Axes>"
      ]
     },
     "metadata": {
      "needs_background": "light"
     },
     "output_type": "display_data"
    }
   ],
   "source": [
    "# Visualize the data\n",
    "#Provide a pandas series of the counts for the country\n",
    "count_values = df.Country.value_counts()\n",
    "\n",
    "#Displays the top 10 most contributing countries\n",
    "(count_values[:10]/df.shape[0]).plot(kind=\"bar\");\n",
    "plt.title(\"Survey Contribution\");"
   ]
  },
  {
   "cell_type": "markdown",
   "metadata": {},
   "source": [
    "### 2. Finding out the payment for developers by country:"
   ]
  },
  {
   "cell_type": "code",
   "execution_count": 18,
   "metadata": {
    "ExecuteTime": {
     "end_time": "2020-05-12T12:33:16.214135Z",
     "start_time": "2020-05-12T12:33:16.158442Z"
    }
   },
   "outputs": [
    {
     "name": "stdout",
     "output_type": "stream",
     "text": [
      "Which of the following describe you? Please select all that apply.\n",
      "In which country do you currently reside?\n",
      "Salary converted to annual USD salaries using the exchange rate on 2019-02-01, assuming 12 working months and 50 working weeks.\n"
     ]
    }
   ],
   "source": [
    "salaries_df = df[['DevType', 'Country','ConvertedComp']]\n",
    "\n",
    "for column in salaries_df.columns.tolist():\n",
    "    col_desc = schema[schema['Column']==column]['QuestionText'].iloc[0]\n",
    "    print(col_desc)"
   ]
  },
  {
   "cell_type": "code",
   "execution_count": 21,
   "metadata": {
    "ExecuteTime": {
     "end_time": "2020-05-12T12:33:43.210645Z",
     "start_time": "2020-05-12T12:33:43.176699Z"
    }
   },
   "outputs": [
    {
     "data": {
      "text/html": [
       "<div>\n",
       "<style scoped>\n",
       "    .dataframe tbody tr th:only-of-type {\n",
       "        vertical-align: middle;\n",
       "    }\n",
       "\n",
       "    .dataframe tbody tr th {\n",
       "        vertical-align: top;\n",
       "    }\n",
       "\n",
       "    .dataframe thead th {\n",
       "        text-align: right;\n",
       "    }\n",
       "</style>\n",
       "<table border=\"1\" class=\"dataframe\">\n",
       "  <thead>\n",
       "    <tr style=\"text-align: right;\">\n",
       "      <th></th>\n",
       "      <th>index</th>\n",
       "      <th>DevType</th>\n",
       "      <th>Country</th>\n",
       "      <th>ConvertedComp</th>\n",
       "    </tr>\n",
       "  </thead>\n",
       "  <tbody>\n",
       "    <tr>\n",
       "      <th>0</th>\n",
       "      <td>2</td>\n",
       "      <td>Designer;Developer, back-end;Developer, front-...</td>\n",
       "      <td>Thailand</td>\n",
       "      <td>8820.0</td>\n",
       "    </tr>\n",
       "    <tr>\n",
       "      <th>1</th>\n",
       "      <td>3</td>\n",
       "      <td>Developer, full-stack</td>\n",
       "      <td>United States</td>\n",
       "      <td>61000.0</td>\n",
       "    </tr>\n",
       "    <tr>\n",
       "      <th>2</th>\n",
       "      <td>5</td>\n",
       "      <td>Data or business analyst;Data scientist or mac...</td>\n",
       "      <td>Canada</td>\n",
       "      <td>366420.0</td>\n",
       "    </tr>\n",
       "    <tr>\n",
       "      <th>3</th>\n",
       "      <td>8</td>\n",
       "      <td>Database administrator;Developer, back-end;Dev...</td>\n",
       "      <td>New Zealand</td>\n",
       "      <td>95179.0</td>\n",
       "    </tr>\n",
       "    <tr>\n",
       "      <th>4</th>\n",
       "      <td>9</td>\n",
       "      <td>Data or business analyst;Data scientist or mac...</td>\n",
       "      <td>India</td>\n",
       "      <td>13293.0</td>\n",
       "    </tr>\n",
       "  </tbody>\n",
       "</table>\n",
       "</div>"
      ],
      "text/plain": [
       "   index                                            DevType        Country  \\\n",
       "0      2  Designer;Developer, back-end;Developer, front-...       Thailand   \n",
       "1      3                              Developer, full-stack  United States   \n",
       "2      5  Data or business analyst;Data scientist or mac...         Canada   \n",
       "3      8  Database administrator;Developer, back-end;Dev...    New Zealand   \n",
       "4      9  Data or business analyst;Data scientist or mac...          India   \n",
       "\n",
       "   ConvertedComp  \n",
       "0         8820.0  \n",
       "1        61000.0  \n",
       "2       366420.0  \n",
       "3        95179.0  \n",
       "4        13293.0  "
      ]
     },
     "execution_count": 21,
     "metadata": {},
     "output_type": "execute_result"
    }
   ],
   "source": [
    "# drop rows with missing values from salaries df\n",
    "clean_salaries_df = salaries_df.dropna().reset_index()\n",
    "clean_salaries_df.head()"
   ]
  },
  {
   "cell_type": "code",
   "execution_count": 22,
   "metadata": {
    "ExecuteTime": {
     "end_time": "2020-05-12T12:33:47.413847Z",
     "start_time": "2020-05-12T12:33:47.398887Z"
    }
   },
   "outputs": [
    {
     "data": {
      "text/plain": [
       "United States                            14756\n",
       "United Kingdom                            3967\n",
       "India                                     3953\n",
       "Germany                                   3734\n",
       "Canada                                    2225\n",
       "France                                    1619\n",
       "Brazil                                    1395\n",
       "Poland                                    1307\n",
       "Australia                                 1233\n",
       "Spain                                     1189\n",
       "Netherlands                               1184\n",
       "Russian Federation                        1095\n",
       "Italy                                      932\n",
       "Sweden                                     901\n",
       "Switzerland                                663\n",
       "Israel                                     569\n",
       "Ukraine                                    535\n",
       "Austria                                    500\n",
       "Turkey                                     496\n",
       "Czech Republic                             477\n",
       "Mexico                                     457\n",
       "Belgium                                    456\n",
       "Pakistan                                   421\n",
       "Iran                                       415\n",
       "Norway                                     415\n",
       "South Africa                               414\n",
       "Denmark                                    413\n",
       "Romania                                    409\n",
       "Bulgaria                                   401\n",
       "Argentina                                  389\n",
       "                                         ...  \n",
       "Swaziland                                    4\n",
       "Botswana                                     3\n",
       "Congo, Republic of the...                    3\n",
       "Turkmenistan                                 3\n",
       "Burundi                                      2\n",
       "Andorra                                      2\n",
       "Fiji                                         2\n",
       "Haiti                                        2\n",
       "San Marino                                   2\n",
       "Tajikistan                                   2\n",
       "Monaco                                       2\n",
       "Malawi                                       1\n",
       "Togo                                         1\n",
       "Seychelles                                   1\n",
       "Brunei Darussalam                            1\n",
       "Lao People's Democratic Republic             1\n",
       "Timor-Leste                                  1\n",
       "Guinea                                       1\n",
       "Angola                                       1\n",
       "Chad                                         1\n",
       "Barbados                                     1\n",
       "Oman                                         1\n",
       "Liechtenstein                                1\n",
       "Saint Vincent and the Grenadines             1\n",
       "Democratic Republic of the Congo             1\n",
       "Lesotho                                      1\n",
       "Burkina Faso                                 1\n",
       "Mali                                         1\n",
       "Djibouti                                     1\n",
       "Democratic People's Republic of Korea        1\n",
       "Name: Country, Length: 160, dtype: int64"
      ]
     },
     "execution_count": 22,
     "metadata": {},
     "output_type": "execute_result"
    }
   ],
   "source": [
    "# First lets make a count of developer by country\n",
    "clean_salaries_df.Country.value_counts()"
   ]
  },
  {
   "cell_type": "code",
   "execution_count": 49,
   "metadata": {
    "ExecuteTime": {
     "end_time": "2020-05-11T15:13:02.122926Z",
     "start_time": "2020-05-11T15:12:54.885773Z"
    },
    "scrolled": true
   },
   "outputs": [
    {
     "data": {
      "image/png": "[encoded data removed]",
      "text/plain": [
       "<Figure size 1440x720 with 9 Axes>"
      ]
     },
     "metadata": {
      "needs_background": "light"
     },
     "output_type": "display_data"
    }
   ],
   "source": [
    "#Now lets plot salary distributions for the top 10 countries\n",
    "# And Visualize the data\n",
    "fig = plt.figure(figsize=(20,10))\n",
    "countries = clean_salaries_df['Country'].value_counts().sort_values(ascending=False)[:9].index.tolist()\n",
    "\n",
    "for i,country in enumerate(countries):\n",
    "    plt.subplot(3,3,i+1)\n",
    "    temp_salaries = clean_salaries_df.loc[clean_salaries_df['Country']==country,'ConvertedComp']\n",
    "\n",
    "    ax = temp_salaries.plot(kind='kde')\n",
    "    ax.axvline(temp_salaries.mean(), linestyle = '-', color = 'red')\n",
    "    ax.text((temp_salaries.mean() + 1500), (float(ax.get_ylim()[1])*0.55), 'mean = $ ' + str(round(temp_salaries.mean(),0)), fontsize = 12)\n",
    "    ax.set_xlabel('Annual Salary in USD')\n",
    "    ax.set_xlim(-temp_salaries.mean(),temp_salaries.mean()+2*temp_salaries.std())\n",
    "    \n",
    "    ax.set_title('Annual Salary Distribution in {}'.format(country))\n",
    "\n",
    "plt.tight_layout()\n",
    "plt.savefig('developer_salaries_by_country.png',bbox_inches = 'tight')\n",
    "plt.show()"
   ]
  },
  {
   "cell_type": "markdown",
   "metadata": {},
   "source": [
    "\n",
    "---\n",
    "\n",
    "The US has by far the highest salaries!\n",
    "\n",
    "---\n"
   ]
  },
  {
   "cell_type": "markdown",
   "metadata": {
    "ExecuteTime": {
     "end_time": "2020-05-11T15:00:21.491981Z",
     "start_time": "2020-05-11T15:00:21.487481Z"
    }
   },
   "source": [
    "### 3. Finding out the framework of choice for developers:"
   ]
  },
  {
   "cell_type": "code",
   "execution_count": 44,
   "metadata": {
    "ExecuteTime": {
     "end_time": "2020-05-11T14:58:59.196058Z",
     "start_time": "2020-05-11T14:58:58.843989Z"
    }
   },
   "outputs": [
    {
     "data": {
      "image/png": "[encoded data removed]",
      "text/plain": [
       "<Figure size 432x288 with 1 Axes>"
      ]
     },
     "metadata": {
      "needs_background": "light"
     },
     "output_type": "display_data"
    }
   ],
   "source": [
    "#Visualize the Data\n",
    "#Provide a pandas series of the counts for each LanguageWorkedWith\n",
    "count_values = df.WebFrameWorkedWith.value_counts()\n",
    "\n",
    "#display the top 10\n",
    "(count_values[:10]/df.shape[0]).plot(kind=\"bar\");\n",
    "plt.title(\"Web Framework\");"
   ]
  },
  {
   "cell_type": "markdown",
   "metadata": {},
   "source": [
    "\n",
    "### Conclusion:\n",
    "\n",
    "In this notebook we did the analysis about developers from Stack Overflow Survey Data 2019, and these are the summary of what we have done.\n",
    "\n",
    "1. We measure the survey participation for each country and found that United States has the highest participation level in the world.\n",
    "\n",
    "2. We then looked at developers count by country and salary distribution. The United States has by far the highest salaries.\n",
    "\n",
    "3. Finally, We found out that developers' framework of choice is JQuery.\n"
   ]
  }
 ],
 "metadata": {
  "kernelspec": {
   "display_name": "Python 3",
   "language": "python",
   "name": "python3"
  },
  "language_info": {
   "codemirror_mode": {
    "name": "ipython",
    "version": 3
   },
   "file_extension": ".py",
   "mimetype": "text/x-python",
   "name": "python",
   "nbconvert_exporter": "python",
   "pygments_lexer": "ipython3",
   "version": "3.7.0"
  },
  "varInspector": {
   "cols": {
    "lenName": 16,
    "lenType": 16,
    "lenVar": 40
   },
   "kernels_config": {
    "python": {
     "delete_cmd_postfix": "",
     "delete_cmd_prefix": "del ",
     "library": "var_list.py",
     "varRefreshCmd": "print(var_dic_list())"
    },
    "r": {
     "delete_cmd_postfix": ") ",
     "delete_cmd_prefix": "rm(",
     "library": "var_list.r",
     "varRefreshCmd": "cat(var_dic_list()) "
    }
   },
   "types_to_exclude": [
    "module",
    "function",
    "builtin_function_or_method",
    "instance",
    "_Feature"
   ],
   "window_display": false
  }
 },
 "nbformat": 4,
 "nbformat_minor": 2
}
